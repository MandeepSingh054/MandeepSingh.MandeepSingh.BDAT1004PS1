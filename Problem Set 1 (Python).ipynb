{
 "cells": [
  {
   "cell_type": "markdown",
   "id": "82abd146",
   "metadata": {},
   "source": [
    "# Question 6"
   ]
  },
  {
   "cell_type": "code",
   "execution_count": 1,
   "id": "d20f0e3c",
   "metadata": {},
   "outputs": [],
   "source": [
    "def pig(word):\n",
    "    wordLower = word.lower()\n",
    "    vowels=['a','e','i','o','u']\n",
    "    if wordLower[0] in vowels:\n",
    "        newword=wordLower+\"way\"\n",
    "    else:\n",
    "        newword= wordLower[1:] + wordLower[0] + 'ay'\n",
    "    print(newword)"
   ]
  },
  {
   "cell_type": "code",
   "execution_count": 2,
   "id": "34f2227b",
   "metadata": {},
   "outputs": [
    {
     "name": "stdout",
     "output_type": "stream",
     "text": [
      "appyhay\n"
     ]
    }
   ],
   "source": [
    "pig('happy')"
   ]
  },
  {
   "cell_type": "code",
   "execution_count": 3,
   "id": "9af2c82b",
   "metadata": {},
   "outputs": [
    {
     "name": "stdout",
     "output_type": "stream",
     "text": [
      "enterway\n"
     ]
    }
   ],
   "source": [
    "pig('Enter')"
   ]
  },
  {
   "cell_type": "markdown",
   "id": "4c48fe7b",
   "metadata": {},
   "source": [
    "# Question 7"
   ]
  },
  {
   "cell_type": "code",
   "execution_count": 4,
   "id": "130d48e1",
   "metadata": {},
   "outputs": [],
   "source": [
    "def bldcount(name):\n",
    "    infile=open(name,'r')\n",
    "    fileStr=infile.readline()\n",
    "    bgSampleList=fileStr.split(' ')\n",
    "\n",
    "    bloodGroupList = ['A','B','AB','O','OO']\n",
    "    for bg in bloodGroupList:\n",
    "        bgCount=bgSampleList.count(bg)\n",
    "        if bgCount == 0:\n",
    "            print('There are no patients of blood type {}.'.format(bg))\n",
    "        elif bgCount == 1:\n",
    "            print('There is one patient of blood type {}.'.format(bg))\n",
    "        else:\n",
    "            print('There are {} patients of blood type {}.'.format(bgCount,bg))\n"
   ]
  },
  {
   "cell_type": "code",
   "execution_count": 5,
   "id": "69a98b60",
   "metadata": {},
   "outputs": [
    {
     "name": "stdout",
     "output_type": "stream",
     "text": [
      "There are 15 patients of blood type A.\n",
      "There is one patient of blood type B.\n",
      "There are 13 patients of blood type AB.\n",
      "There are 15 patients of blood type O.\n",
      "There are no patients of blood type OO.\n"
     ]
    }
   ],
   "source": [
    "bldcount('bloodtype1.txt')"
   ]
  },
  {
   "cell_type": "markdown",
   "id": "8a0c6dae",
   "metadata": {},
   "source": [
    "# Question 8"
   ]
  },
  {
   "cell_type": "code",
   "execution_count": 6,
   "id": "f4af7cb9",
   "metadata": {},
   "outputs": [],
   "source": [
    "def curconv(cur,amount):\n",
    "    infile=open('currencies.txt','r')\n",
    "    fileContent=infile.readlines()\n",
    "    currencyRateDict = {}\n",
    "    for line in fileContent:\n",
    "        givenCurrency=line.split('\\t')\n",
    "\n",
    "        currencyRateDict[givenCurrency[0]]=givenCurrency[1]\n",
    "    return float(currencyRateDict[cur])*amount"
   ]
  },
  {
   "cell_type": "code",
   "execution_count": 7,
   "id": "82d74904",
   "metadata": {},
   "outputs": [
    {
     "data": {
      "text/plain": [
       "122.96544"
      ]
     },
     "execution_count": 7,
     "metadata": {},
     "output_type": "execute_result"
    }
   ],
   "source": [
    "curconv('EUR',100)"
   ]
  },
  {
   "cell_type": "code",
   "execution_count": 8,
   "id": "19bb8ecb",
   "metadata": {},
   "outputs": [
    {
     "data": {
      "text/plain": [
       "1.241401"
      ]
     },
     "execution_count": 8,
     "metadata": {},
     "output_type": "execute_result"
    }
   ],
   "source": [
    "curconv('JPY', 100)"
   ]
  },
  {
   "cell_type": "markdown",
   "id": "0f4d4857",
   "metadata": {},
   "source": [
    "# Question 9"
   ]
  },
  {
   "cell_type": "markdown",
   "id": "fec1fb9c",
   "metadata": {},
   "source": [
    "<center><img src=\"errors.png\"></center"
   ]
  },
  {
   "cell_type": "code",
   "execution_count": null,
   "id": "635db9e7",
   "metadata": {},
   "outputs": [],
   "source": []
  }
 ],
 "metadata": {
  "kernelspec": {
   "display_name": "Python 3 (ipykernel)",
   "language": "python",
   "name": "python3"
  },
  "language_info": {
   "codemirror_mode": {
    "name": "ipython",
    "version": 3
   },
   "file_extension": ".py",
   "mimetype": "text/x-python",
   "name": "python",
   "nbconvert_exporter": "python",
   "pygments_lexer": "ipython3",
   "version": "3.9.7"
  }
 },
 "nbformat": 4,
 "nbformat_minor": 5
}
