{
 "cells": [
  {
   "cell_type": "markdown",
   "id": "c209abbc",
   "metadata": {},
   "source": [
    "# Question 1"
   ]
  },
  {
   "cell_type": "markdown",
   "id": "139e8473",
   "metadata": {},
   "source": [
    "<h3><font color='#004b87'>Data Types</font></h3>\n",
    "<p></p>\n",
    "\n",
    "\n",
    "|value    | Data Type         |                         \n",
    "| :---    |-----------------: |          \n",
    "| 5       | Integer    |\n",
    "| 5.0     | Double     |  \n",
    "| 5>1     | Boolean    |  \n",
    "| '5'     | String     |  \n",
    "| 5*2     | Integer    |  \n",
    "|'5'+'2'  | String     |  \n",
    "| 5/2     | Double     |  \n",
    "| 5%2      | Integer   |  \n",
    "| {5,2,1}  | Set       |  \n",
    "| 5 == 3   | Boolean   |  \n",
    "| pi       | Double    |"
   ]
  },
  {
   "cell_type": "markdown",
   "id": "22b492e4",
   "metadata": {},
   "source": [
    "# Question 2"
   ]
  },
  {
   "cell_type": "markdown",
   "id": "066d216b",
   "metadata": {},
   "source": [
    "Answer 2a"
   ]
  },
  {
   "cell_type": "code",
   "execution_count": 1,
   "id": "f8e74b3a",
   "metadata": {},
   "outputs": [
    {
     "data": {
      "text/html": [
       "\r\n",
       "<div>\r\n",
       "    <div id='dotnet-interactive-this-cell-29020.Microsoft.DotNet.Interactive.Http.HttpPort' style='display: none'>\r\n",
       "        The below script needs to be able to find the current output cell; this is an easy method to get it.\r\n",
       "    </div>\r\n",
       "    <script type='text/javascript'>\r\n",
       "async function probeAddresses(probingAddresses) {\r\n",
       "    function timeout(ms, promise) {\r\n",
       "        return new Promise(function (resolve, reject) {\r\n",
       "            setTimeout(function () {\r\n",
       "                reject(new Error('timeout'))\r\n",
       "            }, ms)\r\n",
       "            promise.then(resolve, reject)\r\n",
       "        })\r\n",
       "    }\r\n",
       "\r\n",
       "    if (Array.isArray(probingAddresses)) {\r\n",
       "        for (let i = 0; i < probingAddresses.length; i++) {\r\n",
       "\r\n",
       "            let rootUrl = probingAddresses[i];\r\n",
       "\r\n",
       "            if (!rootUrl.endsWith('/')) {\r\n",
       "                rootUrl = `${rootUrl}/`;\r\n",
       "            }\r\n",
       "\r\n",
       "            try {\r\n",
       "                let response = await timeout(1000, fetch(`${rootUrl}discovery`, {\r\n",
       "                    method: 'POST',\r\n",
       "                    cache: 'no-cache',\r\n",
       "                    mode: 'cors',\r\n",
       "                    timeout: 1000,\r\n",
       "                    headers: {\r\n",
       "                        'Content-Type': 'text/plain'\r\n",
       "                    },\r\n",
       "                    body: probingAddresses[i]\r\n",
       "                }));\r\n",
       "\r\n",
       "                if (response.status == 200) {\r\n",
       "                    return rootUrl;\r\n",
       "                }\r\n",
       "            }\r\n",
       "            catch (e) { }\r\n",
       "        }\r\n",
       "    }\r\n",
       "}\r\n",
       "\r\n",
       "function loadDotnetInteractiveApi() {\r\n",
       "    probeAddresses([\"http://10.0.0.210:2048/\", \"http://127.0.0.1:2048/\"])\r\n",
       "        .then((root) => {\r\n",
       "        // use probing to find host url and api resources\r\n",
       "        // load interactive helpers and language services\r\n",
       "        let dotnetInteractiveRequire = require.config({\r\n",
       "        context: '29020.Microsoft.DotNet.Interactive.Http.HttpPort',\r\n",
       "                paths:\r\n",
       "            {\r\n",
       "                'dotnet-interactive': `${root}resources`\r\n",
       "                }\r\n",
       "        }) || require;\r\n",
       "\r\n",
       "            window.dotnetInteractiveRequire = dotnetInteractiveRequire;\r\n",
       "\r\n",
       "            window.configureRequireFromExtension = function(extensionName, extensionCacheBuster) {\r\n",
       "                let paths = {};\r\n",
       "                paths[extensionName] = `${root}extensions/${extensionName}/resources/`;\r\n",
       "                \r\n",
       "                let internalRequire = require.config({\r\n",
       "                    context: extensionCacheBuster,\r\n",
       "                    paths: paths,\r\n",
       "                    urlArgs: `cacheBuster=${extensionCacheBuster}`\r\n",
       "                    }) || require;\r\n",
       "\r\n",
       "                return internalRequire\r\n",
       "            };\r\n",
       "        \r\n",
       "            dotnetInteractiveRequire([\r\n",
       "                    'dotnet-interactive/dotnet-interactive'\r\n",
       "                ],\r\n",
       "                function (dotnet) {\r\n",
       "                    dotnet.init(window);\r\n",
       "                },\r\n",
       "                function (error) {\r\n",
       "                    console.log(error);\r\n",
       "                }\r\n",
       "            );\r\n",
       "        })\r\n",
       "        .catch(error => {console.log(error);});\r\n",
       "    }\r\n",
       "\r\n",
       "// ensure `require` is available globally\r\n",
       "if ((typeof(require) !==  typeof(Function)) || (typeof(require.config) !== typeof(Function))) {\r\n",
       "    let require_script = document.createElement('script');\r\n",
       "    require_script.setAttribute('src', 'https://cdnjs.cloudflare.com/ajax/libs/require.js/2.3.6/require.min.js');\r\n",
       "    require_script.setAttribute('type', 'text/javascript');\r\n",
       "    \r\n",
       "    \r\n",
       "    require_script.onload = function() {\r\n",
       "        loadDotnetInteractiveApi();\r\n",
       "    };\r\n",
       "\r\n",
       "    document.getElementsByTagName('head')[0].appendChild(require_script);\r\n",
       "}\r\n",
       "else {\r\n",
       "    loadDotnetInteractiveApi();\r\n",
       "}\r\n",
       "\r\n",
       "    </script>\r\n",
       "</div>"
      ]
     },
     "metadata": {},
     "output_type": "display_data"
    },
    {
     "name": "stdout",
     "output_type": "stream",
     "text": [
      "34"
     ]
    }
   ],
   "source": [
    "string s=\"Supercalifragilisticexpialidocious\";\n",
    "Console.Write(s.Length);"
   ]
  },
  {
   "cell_type": "markdown",
   "id": "965415ef",
   "metadata": {},
   "source": [
    "Answer 2b"
   ]
  },
  {
   "cell_type": "code",
   "execution_count": 2,
   "id": "cf6a1ba3",
   "metadata": {},
   "outputs": [
    {
     "name": "stdout",
     "output_type": "stream",
     "text": [
      "Word found!\r\n"
     ]
    }
   ],
   "source": [
    "if (s.Contains(\"ice\") == true) {\n",
    "   Console.WriteLine(\"Word found!\");\n",
    "}\n",
    "else\n",
    "{\n",
    " Console.WriteLine(\"Word Not found!\");\n",
    "}"
   ]
  },
  {
   "cell_type": "markdown",
   "id": "9f6562a2",
   "metadata": {},
   "source": [
    "Answer 2c"
   ]
  },
  {
   "cell_type": "code",
   "execution_count": 3,
   "id": "5a79651d",
   "metadata": {},
   "outputs": [
    {
     "name": "stdout",
     "output_type": "stream",
     "text": [
      "Maximum element 34\n",
      "Minimum element 27\n"
     ]
    }
   ],
   "source": [
    "string s1 = @\"Supercalifragilisticexpialidocious\";\n",
    "string s2 = @\"Honorificabilitudinitatibus\";\n",
    "string s3 = @\"Bababadalgharaghtakamminarronnkonn\";\n",
    "int s1_len=s1.Length;\n",
    "int s2_len=s2.Length;\n",
    "int s3_len=s3.Length;\n",
    "List<int> list = new List<int>() { s1_len,s2_len,s3_len };\n",
    "Console.WriteLine(\"Maximum element \" + list.Max());\n",
    "Console.WriteLine(\"Minimum element \" + list.Min());"
   ]
  },
  {
   "cell_type": "markdown",
   "id": "77ee214d",
   "metadata": {},
   "source": [
    "Answer 2d"
   ]
  },
  {
   "cell_type": "code",
   "execution_count": 4,
   "id": "a240ed05",
   "metadata": {},
   "outputs": [
    {
     "name": "stdout",
     "output_type": "stream",
     "text": [
      "First In Dictionary : Bartok\n",
      "Last in Dictionary : Buxtehude\n"
     ]
    }
   ],
   "source": [
    "var composer = new SortedSet<string>();\n",
    "composer.Add(\"Berlioz\");\n",
    "composer.Add(\"Borodin\");\n",
    "composer.Add(\"Brian\");\n",
    "composer.Add(\"Bartok\");\n",
    "composer.Add(\"Bellini\");\n",
    "composer.Add(\"Buxtehude\");\n",
    "composer.Add(\"Bernstein\");\n",
    "Console.WriteLine(\"First In Dictionary : \" + composer.First());\n",
    "Console.WriteLine(\"Last in Dictionary : \"+composer.Last());\n",
    "  "
   ]
  },
  {
   "cell_type": "markdown",
   "id": "d4cdebd0",
   "metadata": {},
   "source": [
    "# Question 3"
   ]
  },
  {
   "cell_type": "code",
   "execution_count": 5,
   "id": "3b982923",
   "metadata": {},
   "outputs": [],
   "source": [
    "static void triangleArea(double a, double b, double c) \n",
    "  {\n",
    "   double s = (a+b+c)/2;\n",
    "   double s_minus_a = (s-a);\n",
    "   double s_minus_b = (s-b);\n",
    "   double s_minus_c = (s-c);\n",
    "   \n",
    "   double val=s*((s_minus_a)*(s_minus_b)*(s_minus_c));\n",
    "   double area = Math.Sqrt(val);\n",
    "   Console.WriteLine(area);\n",
    "  }"
   ]
  },
  {
   "cell_type": "code",
   "execution_count": 6,
   "id": "ce49e629",
   "metadata": {},
   "outputs": [
    {
     "name": "stdout",
     "output_type": "stream",
     "text": [
      "1.7320508075688772\r\n"
     ]
    }
   ],
   "source": [
    "triangleArea(2,2,2)"
   ]
  },
  {
   "cell_type": "markdown",
   "id": "3c313442",
   "metadata": {},
   "source": [
    "# Question 4"
   ]
  },
  {
   "cell_type": "code",
   "execution_count": 7,
   "id": "056e77f1",
   "metadata": {},
   "outputs": [
    {
     "name": "stdout",
     "output_type": "stream",
     "text": [
      "Input the number of elements to be stored in the array :\n",
      "Input elements in the array :\n",
      "The Even elements are:\n",
      "\n",
      "The Odd elements are:\n"
     ]
    }
   ],
   "source": [
    "Console.Write(\"Input the number of elements to be stored in the array :\\n\");\n",
    "int n = Convert.ToInt32(Console.ReadLine());\n",
    "\n",
    "int[] arr = new int[n];\n",
    "\n",
    "Console.Write(\"Input elements in the array :\\n\");\n",
    "\n",
    "var even = new List<int>();\n",
    "var odd = new List<int>();\n",
    "even.Clear();\n",
    "odd.Clear();\n",
    "\n",
    "for (int i = 0; i < arr.Length; i++)\n",
    "{\n",
    "    Console.WriteLine($\"element : {i}\");\n",
    "    arr[i] = Convert.ToInt32(Console.ReadLine());\n",
    "}\n",
    "\n",
    "for (int i = 0; i < arr.Length; i++)\n",
    "{\n",
    "    if (arr[i] % 2 == 0)\n",
    "    {\n",
    "        even.Add(arr[i]);\n",
    "    }\n",
    "    else\n",
    "    {\n",
    "        odd.Add(arr[i]);\n",
    "\n",
    "    }\n",
    "}\n",
    "\n",
    "Console.WriteLine(\"The Even elements are:\");\n",
    "foreach (var element in even)\n",
    "{\n",
    "    Console.Write(element + \" \");\n",
    "}\n",
    "\n",
    "Console.WriteLine(\"\\nThe Odd elements are:\");\n",
    "foreach (var element in odd)\n",
    "{\n",
    "    Console.Write(element + \" \");\n",
    "}\n"
   ]
  },
  {
   "cell_type": "markdown",
   "id": "1bdbadbe",
   "metadata": {},
   "source": [
    "<center><img src=\"Question4.png\"></center>"
   ]
  },
  {
   "cell_type": "markdown",
   "id": "eb99d537",
   "metadata": {},
   "source": [
    "# Question 5"
   ]
  },
  {
   "cell_type": "markdown",
   "id": "f0bf4b88",
   "metadata": {},
   "source": [
    "Answer 5a"
   ]
  },
  {
   "cell_type": "code",
   "execution_count": 8,
   "id": "14e8e926",
   "metadata": {},
   "outputs": [],
   "source": [
    "static bool inside(double x,double y,double x1,double y1,double x2,double y2)\n",
    "{\n",
    "    if (x > x1 && x < x2 &&\n",
    "        y > y1 && y < y2)\n",
    "        return true;\n",
    "\n",
    "    return false;\n",
    "}"
   ]
  },
  {
   "cell_type": "code",
   "execution_count": 9,
   "id": "b90e9222",
   "metadata": {},
   "outputs": [
    {
     "data": {
      "text/html": [
       "<div class=\"dni-plaintext\"><pre>True</pre></div><style>\r\n",
       ".dni-code-hint {\r\n",
       "    font-style: italic;\r\n",
       "    overflow: hidden;\r\n",
       "    white-space: nowrap;\r\n",
       "}\r\n",
       ".dni-treeview {\r\n",
       "    white-space: nowrap;\r\n",
       "}\r\n",
       ".dni-treeview td {\r\n",
       "    vertical-align: top;\r\n",
       "    text-align: start;\r\n",
       "}\r\n",
       "details.dni-treeview {\r\n",
       "    padding-left: 1em;\r\n",
       "}\r\n",
       "table td {\r\n",
       "    text-align: start;\r\n",
       "}\r\n",
       "table tr { \r\n",
       "    vertical-align: top; \r\n",
       "    margin: 0em 0px;\r\n",
       "}\r\n",
       "table tr td pre \r\n",
       "{ \r\n",
       "    vertical-align: top !important; \r\n",
       "    margin: 0em 0px !important;\r\n",
       "} \r\n",
       "table th {\r\n",
       "    text-align: start;\r\n",
       "}\r\n",
       "</style>"
      ]
     },
     "execution_count": 9,
     "metadata": {},
     "output_type": "execute_result"
    }
   ],
   "source": [
    "inside(1,1,0,0,2,3)\n"
   ]
  },
  {
   "cell_type": "code",
   "execution_count": 10,
   "id": "ab050e1b",
   "metadata": {},
   "outputs": [
    {
     "data": {
      "text/html": [
       "<div class=\"dni-plaintext\"><pre>False</pre></div><style>\r\n",
       ".dni-code-hint {\r\n",
       "    font-style: italic;\r\n",
       "    overflow: hidden;\r\n",
       "    white-space: nowrap;\r\n",
       "}\r\n",
       ".dni-treeview {\r\n",
       "    white-space: nowrap;\r\n",
       "}\r\n",
       ".dni-treeview td {\r\n",
       "    vertical-align: top;\r\n",
       "    text-align: start;\r\n",
       "}\r\n",
       "details.dni-treeview {\r\n",
       "    padding-left: 1em;\r\n",
       "}\r\n",
       "table td {\r\n",
       "    text-align: start;\r\n",
       "}\r\n",
       "table tr { \r\n",
       "    vertical-align: top; \r\n",
       "    margin: 0em 0px;\r\n",
       "}\r\n",
       "table tr td pre \r\n",
       "{ \r\n",
       "    vertical-align: top !important; \r\n",
       "    margin: 0em 0px !important;\r\n",
       "} \r\n",
       "table th {\r\n",
       "    text-align: start;\r\n",
       "}\r\n",
       "</style>"
      ]
     },
     "execution_count": 10,
     "metadata": {},
     "output_type": "execute_result"
    }
   ],
   "source": [
    "inside(-1,-1,0,0,2,3)"
   ]
  },
  {
   "cell_type": "markdown",
   "id": "353068a5",
   "metadata": {},
   "source": [
    "Answer 5b"
   ]
  },
  {
   "cell_type": "code",
   "execution_count": 11,
   "id": "4ad49635",
   "metadata": {},
   "outputs": [
    {
     "name": "stdout",
     "output_type": "stream",
     "text": [
      "Point Doesnot lie inside both Rectangles\r\n"
     ]
    }
   ],
   "source": [
    "bool rect1Loc = inside(1,1,0.3, 0.5,1.1, 0.7);\n",
    "bool rect2Loc = inside(1,1,0.5, 0.2,1.1, 2);\n",
    "\n",
    "if (rect1Loc && rect2Loc)\n",
    "{\n",
    "Console.WriteLine(\"Point Lies inside both Rectangles\");\n",
    "}\n",
    "else\n",
    "{\n",
    "Console.WriteLine(\"Point Doesnot lie inside both Rectangles\");\n",
    "}"
   ]
  },
  {
   "cell_type": "code",
   "execution_count": null,
   "id": "744241b3",
   "metadata": {},
   "outputs": [],
   "source": []
  },
  {
   "cell_type": "code",
   "execution_count": null,
   "id": "fa5ea821",
   "metadata": {},
   "outputs": [],
   "source": []
  }
 ],
 "metadata": {
  "kernelspec": {
   "display_name": ".NET (C#)",
   "language": "C#",
   "name": ".net-csharp"
  },
  "language_info": {
   "file_extension": ".cs",
   "mimetype": "text/x-csharp",
   "name": "C#",
   "pygments_lexer": "csharp",
   "version": "11.0"
  }
 },
 "nbformat": 4,
 "nbformat_minor": 5
}
